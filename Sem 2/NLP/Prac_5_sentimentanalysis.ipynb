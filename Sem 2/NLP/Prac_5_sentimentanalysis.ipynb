{
 "cells": [
  {
   "cell_type": "markdown",
   "id": "2bd5a0c6",
   "metadata": {},
   "source": [
    "Practical:- Implement a spam classifier using machine learning techniques to classify emails as spam or not spam."
   ]
  },
  {
   "cell_type": "code",
   "execution_count": 1,
   "id": "e893127c",
   "metadata": {},
   "outputs": [
    {
     "name": "stdout",
     "output_type": "stream",
     "text": [
      "Defaulting to user installation because normal site-packages is not writeable\n",
      "Collecting textblob\n",
      "  Downloading textblob-0.18.0.post0-py3-none-any.whl (626 kB)\n",
      "     -------------------------------------- 626.3/626.3 kB 2.5 MB/s eta 0:00:00\n",
      "Collecting nltk>=3.8\n",
      "  Using cached nltk-3.8.1-py3-none-any.whl (1.5 MB)\n",
      "Requirement already satisfied: regex>=2021.8.3 in c:\\programdata\\anaconda3\\lib\\site-packages (from nltk>=3.8->textblob) (2022.7.9)\n",
      "Requirement already satisfied: click in c:\\programdata\\anaconda3\\lib\\site-packages (from nltk>=3.8->textblob) (8.0.4)\n",
      "Requirement already satisfied: joblib in c:\\programdata\\anaconda3\\lib\\site-packages (from nltk>=3.8->textblob) (1.1.0)\n",
      "Requirement already satisfied: tqdm in c:\\users\\rushikesh katole\\appdata\\roaming\\python\\python39\\site-packages (from nltk>=3.8->textblob) (4.65.2)\n",
      "Requirement already satisfied: colorama in c:\\users\\rushikesh katole\\appdata\\roaming\\python\\python39\\site-packages (from click->nltk>=3.8->textblob) (0.4.6)\n",
      "Installing collected packages: nltk, textblob\n",
      "Successfully installed nltk-3.8.1 textblob-0.18.0.post0\n"
     ]
    },
    {
     "name": "stderr",
     "output_type": "stream",
     "text": [
      "  WARNING: The script nltk.exe is installed in 'C:\\Users\\Rushikesh Katole\\AppData\\Roaming\\Python\\Python39\\Scripts' which is not on PATH.\n",
      "  Consider adding this directory to PATH or, if you prefer to suppress this warning, use --no-warn-script-location.\n"
     ]
    }
   ],
   "source": [
    "!pip install textblob\n"
   ]
  },
  {
   "cell_type": "code",
   "execution_count": 3,
   "id": "24bfb49c",
   "metadata": {},
   "outputs": [
    {
     "name": "stdout",
     "output_type": "stream",
     "text": [
      "Sentiment(polarity=1.0, subjectivity=1.0)\n",
      "Positive\n",
      "Sentiment(polarity=0.3499999999999999, subjectivity=0.6666666666666666)\n",
      "Positive\n",
      "Sentiment(polarity=-0.3333333333333333, subjectivity=1.0)\n",
      "Negative\n"
     ]
    }
   ],
   "source": [
    "from textblob import TextBlob\n",
    "\n",
    "def sentiment(polarity):\n",
    "    if blob.sentiment.polarity < 0:\n",
    "        print(\"Negative\")\n",
    "    elif blob.sentiment.polarity > 0:\n",
    "        print(\"Positive\")\n",
    "    else:\n",
    "        print(\"Neutral\")\n",
    "        \n",
    "blob = TextBlob(\"The movie was excellent!\")\n",
    "print(blob.sentiment)\n",
    "sentiment(blob.sentiment.polarity)\n",
    "\n",
    "blob = TextBlob(\"The movie was not bad.\")\n",
    "print(blob.sentiment)\n",
    "sentiment(blob.sentiment.polarity)\n",
    "\n",
    "blob = TextBlob(\"The movie was ridiculous.\")\n",
    "print(blob.sentiment)\n",
    "sentiment(blob.sentiment.polarity)\n"
   ]
  }
 ],
 "metadata": {
  "kernelspec": {
   "display_name": "Python 3 (ipykernel)",
   "language": "python",
   "name": "python3"
  },
  "language_info": {
   "codemirror_mode": {
    "name": "ipython",
    "version": 3
   },
   "file_extension": ".py",
   "mimetype": "text/x-python",
   "name": "python",
   "nbconvert_exporter": "python",
   "pygments_lexer": "ipython3",
   "version": "3.9.13"
  }
 },
 "nbformat": 4,
 "nbformat_minor": 5
}
