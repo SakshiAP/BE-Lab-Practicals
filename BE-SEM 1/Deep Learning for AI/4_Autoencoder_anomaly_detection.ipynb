{
 "cells": [
  {
   "cell_type": "code",
   "execution_count": 1,
   "id": "6b6dce41",
   "metadata": {},
   "outputs": [],
   "source": [
    "# Assignment No. 4:- Use Autoencoder to implement anomaly detection"
   ]
  },
  {
   "cell_type": "code",
   "execution_count": 2,
   "id": "b1be3c34",
   "metadata": {},
   "outputs": [
    {
     "name": "stderr",
     "output_type": "stream",
     "text": [
      "C:\\ProgramData\\Anaconda3\\lib\\site-packages\\scipy\\__init__.py:146: UserWarning: A NumPy version >=1.16.5 and <1.23.0 is required for this version of SciPy (detected version 1.26.1\n",
      "  warnings.warn(f\"A NumPy version >={np_minversion} and <{np_maxversion}\"\n"
     ]
    },
    {
     "name": "stdout",
     "output_type": "stream",
     "text": [
      "Epoch 1/10\n",
      "1500/1500 [==============================] - 8s 5ms/step - loss: 0.0324 - val_loss: 0.0196\n",
      "Epoch 2/10\n",
      "1500/1500 [==============================] - 10s 7ms/step - loss: 0.0169 - val_loss: 0.0150\n",
      "Epoch 3/10\n",
      "1500/1500 [==============================] - 6s 4ms/step - loss: 0.0137 - val_loss: 0.0127\n",
      "Epoch 4/10\n",
      "1500/1500 [==============================] - 11s 7ms/step - loss: 0.0119 - val_loss: 0.0117\n",
      "Epoch 5/10\n",
      "1500/1500 [==============================] - 12s 8ms/step - loss: 0.0109 - val_loss: 0.0108\n",
      "Epoch 6/10\n",
      "1500/1500 [==============================] - 13s 9ms/step - loss: 0.0103 - val_loss: 0.0102\n",
      "Epoch 7/10\n",
      "1500/1500 [==============================] - 7s 5ms/step - loss: 0.0098 - val_loss: 0.0099\n",
      "Epoch 8/10\n",
      "1500/1500 [==============================] - 6s 4ms/step - loss: 0.0095 - val_loss: 0.0095\n",
      "Epoch 9/10\n",
      "1500/1500 [==============================] - 6s 4ms/step - loss: 0.0092 - val_loss: 0.0091\n",
      "Epoch 10/10\n",
      "1500/1500 [==============================] - 5s 3ms/step - loss: 0.0089 - val_loss: 0.0090\n",
      "313/313 [==============================] - 1s 1ms/step\n"
     ]
    },
    {
     "data": {
      "image/png": "[encoded data removed]",
      "text/plain": [
       "<Figure size 432x288 with 5 Axes>"
      ]
     },
     "metadata": {
      "needs_background": "light"
     },
     "output_type": "display_data"
    }
   ],
   "source": [
    "import numpy as np\n",
    "import tensorflow as tf\n",
    "from tensorflow.keras.layers import Input, Dense\n",
    "from tensorflow.keras.models import Model\n",
    "from tensorflow.keras.datasets import mnist\n",
    "from sklearn.model_selection import train_test_split\n",
    "import matplotlib.pyplot as plt\n",
    "\n",
    "\n",
    "# Load and preprocess the MNIST dataset\n",
    "(x_train, y_train), (x_test, y_test) = mnist.load_data()\n",
    "x_train = x_train.astype('float32') / 255.0\n",
    "x_test = x_test.astype('float32') / 255.0\n",
    "x_train = x_train.reshape((len(x_train), np.prod(x_train.shape[1:])))\n",
    "x_test = x_test.reshape((len(x_test), np.prod(x_test.shape[1:])))\n",
    "\n",
    "# Split the data into training and testing sets\n",
    "x_train, x_val = train_test_split(x_train, test_size=0.2, random_state=42)\n",
    "\n",
    "# Define the encoder\n",
    "input_layer = Input(shape=(x_train.shape[1],))\n",
    "encoded = Dense(128, activation='relu')(input_layer)\n",
    "encoded = Dense(64, activation='relu')(encoded)\n",
    "encoded = Dense(32, activation='relu')(encoded)  # Latent representation\n",
    "\n",
    "# Create the encoder model\n",
    "encoder = Model(input_layer, encoded)\n",
    "\n",
    "# Define the decoder\n",
    "decoded = Dense(64, activation='relu')(encoded)\n",
    "decoded = Dense(128, activation='relu')(decoded)\n",
    "decoded = Dense(x_train.shape[1], activation='sigmoid')(decoded)\n",
    "\n",
    "# Create the autoencoder model\n",
    "autoencoder = Model(input_layer, decoded)\n",
    "\n",
    "# Compile the autoencoder model\n",
    "autoencoder.compile(optimizer='adam', loss='mean_squared_error')\n",
    "\n",
    "# Train the autoencoder on the training data\n",
    "autoencoder.fit(x_train, x_train, epochs=10, batch_size=32, validation_data=(x_val, x_val))\n",
    "\n",
    "# Evaluate the autoencoder on the test data\n",
    "reconstruction_errors = np.mean(np.square(x_test - autoencoder.predict(x_test)), axis=1)\n",
    "\n",
    "# Set a threshold for anomaly detection (e.g., using a percentile)\n",
    "threshold = np.percentile(reconstruction_errors, 95)\n",
    "\n",
    "# Detect anomalies in the test data\n",
    "anomalies = x_test[reconstruction_errors > threshold]\n",
    "\n",
    "# Display some of the detected anomalies\n",
    "n_anomalies_to_display = 5\n",
    "for i in range(n_anomalies_to_display):\n",
    "    plt.subplot(1, n_anomalies_to_display, i + 1)\n",
    "    plt.imshow(anomalies[i].reshape(28, 28), cmap='gray')\n",
    "    plt.title(f'Anomaly {i + 1}')\n",
    "    plt.axis('off')\n",
    "\n",
    "plt.show()"
   ]
  },
  {
   "cell_type": "code",
   "execution_count": null,
   "id": "45c3b13b",
   "metadata": {},
   "outputs": [],
   "source": []
  }
 ],
 "metadata": {
  "kernelspec": {
   "display_name": "Python 3 (ipykernel)",
   "language": "python",
   "name": "python3"
  },
  "language_info": {
   "codemirror_mode": {
    "name": "ipython",
    "version": 3
   },
   "file_extension": ".py",
   "mimetype": "text/x-python",
   "name": "python",
   "nbconvert_exporter": "python",
   "pygments_lexer": "ipython3",
   "version": "3.9.12"
  }
 },
 "nbformat": 4,
 "nbformat_minor": 5
}
