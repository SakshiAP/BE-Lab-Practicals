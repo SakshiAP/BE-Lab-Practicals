{
 "cells": [
  {
   "cell_type": "code",
   "execution_count": 1,
   "id": "d62632b9",
   "metadata": {},
   "outputs": [],
   "source": [
    "# Assignment No. 3:- Build the Image classification model by dividing the model"
   ]
  },
  {
   "cell_type": "code",
   "execution_count": 2,
   "id": "8d862cbe",
   "metadata": {},
   "outputs": [
    {
     "name": "stderr",
     "output_type": "stream",
     "text": [
      "C:\\ProgramData\\Anaconda3\\lib\\site-packages\\scipy\\__init__.py:146: UserWarning: A NumPy version >=1.16.5 and <1.23.0 is required for this version of SciPy (detected version 1.26.1\n",
      "  warnings.warn(f\"A NumPy version >={np_minversion} and <{np_maxversion}\"\n"
     ]
    },
    {
     "name": "stdout",
     "output_type": "stream",
     "text": [
      "Epoch 1/10\n",
      "782/782 [==============================] - 25s 30ms/step - loss: 1.5709 - accuracy: 0.4264 - val_loss: 1.3113 - val_accuracy: 0.5260\n",
      "Epoch 2/10\n",
      "782/782 [==============================] - 24s 31ms/step - loss: 1.2383 - accuracy: 0.5577 - val_loss: 1.1949 - val_accuracy: 0.5699\n",
      "Epoch 3/10\n",
      "782/782 [==============================] - 24s 30ms/step - loss: 1.0845 - accuracy: 0.6176 - val_loss: 1.0511 - val_accuracy: 0.6227\n",
      "Epoch 4/10\n",
      "782/782 [==============================] - 24s 31ms/step - loss: 0.9836 - accuracy: 0.6551 - val_loss: 0.9904 - val_accuracy: 0.6520\n",
      "Epoch 5/10\n",
      "782/782 [==============================] - 24s 31ms/step - loss: 0.9087 - accuracy: 0.6832 - val_loss: 0.9485 - val_accuracy: 0.6646\n",
      "Epoch 6/10\n",
      "782/782 [==============================] - 24s 31ms/step - loss: 0.8584 - accuracy: 0.6997 - val_loss: 0.9322 - val_accuracy: 0.6748\n",
      "Epoch 7/10\n",
      "782/782 [==============================] - 25s 32ms/step - loss: 0.8089 - accuracy: 0.7183 - val_loss: 0.9194 - val_accuracy: 0.6822\n",
      "Epoch 8/10\n",
      "782/782 [==============================] - 25s 32ms/step - loss: 0.7628 - accuracy: 0.7334 - val_loss: 0.9071 - val_accuracy: 0.6841\n",
      "Epoch 9/10\n",
      "782/782 [==============================] - 25s 32ms/step - loss: 0.7318 - accuracy: 0.7459 - val_loss: 0.8692 - val_accuracy: 0.7028\n",
      "Epoch 10/10\n",
      "782/782 [==============================] - 25s 32ms/step - loss: 0.6977 - accuracy: 0.7583 - val_loss: 0.8580 - val_accuracy: 0.7026\n",
      "313/313 [==============================] - 3s 10ms/step - loss: 0.8580 - accuracy: 0.7026\n",
      "Test Loss: 0.8580\n",
      "Test Accuracy: 0.7026\n"
     ]
    }
   ],
   "source": [
    "# Import necessary packages\n",
    "import numpy as np\n",
    "import tensorflow as tf\n",
    "from tensorflow.keras.datasets import cifar10\n",
    "from tensorflow.keras.models import Sequential\n",
    "from tensorflow.keras.layers import Conv2D, MaxPooling2D, Flatten, Dense\n",
    "from tensorflow.keras.utils import to_categorical\n",
    "\n",
    "\n",
    "# Stage a: Loading and preprocessing the image data\n",
    "# Load the CIFAR-10 dataset\n",
    "(x_train, y_train), (x_test, y_test) = cifar10.load_data()\n",
    "\n",
    "# Normalize pixel values to range [0, 1]\n",
    "x_train = x_train.astype('float32') / 255.0\n",
    "x_test = x_test.astype('float32') / 255.0\n",
    "\n",
    "# One-hot encode the target labels\n",
    "y_train = to_categorical(y_train, 10)\n",
    "y_test = to_categorical(y_test, 10)\n",
    "\n",
    "# Stage b: Defining the model's architecture\n",
    "model = Sequential()\n",
    "model.add(Conv2D(32, (3, 3), activation='relu', input_shape=(32, 32, 3)))\n",
    "model.add(MaxPooling2D((2, 2)))\n",
    "model.add(Conv2D(64, (3, 3), activation='relu'))\n",
    "model.add(MaxPooling2D((2, 2)))\n",
    "model.add(Conv2D(64, (3, 3), activation='relu'))\n",
    "model.add(Flatten())\n",
    "model.add(Dense(64, activation='relu'))\n",
    "model.add(Dense(10, activation='softmax'))\n",
    "\n",
    "# Compile the model\n",
    "model.compile(optimizer='adam',\n",
    "              loss='categorical_crossentropy',\n",
    "              metrics=['accuracy'])\n",
    "\n",
    "# Stage c: Training the model\n",
    "history = model.fit(x_train, y_train, epochs=10, batch_size=64,\n",
    "                    validation_data=(x_test, y_test))\n",
    "\n",
    "# Stage d: Estimating the model's performance\n",
    "test_loss, test_accuracy = model.evaluate(x_test, y_test)\n",
    "print(f'Test Loss: {test_loss:.4f}')\n",
    "print(f'Test Accuracy: {test_accuracy:.4f}')"
   ]
  },
  {
   "cell_type": "code",
   "execution_count": null,
   "id": "c772656b",
   "metadata": {},
   "outputs": [],
   "source": []
  }
 ],
 "metadata": {
  "kernelspec": {
   "display_name": "Python 3 (ipykernel)",
   "language": "python",
   "name": "python3"
  },
  "language_info": {
   "codemirror_mode": {
    "name": "ipython",
    "version": 3
   },
   "file_extension": ".py",
   "mimetype": "text/x-python",
   "name": "python",
   "nbconvert_exporter": "python",
   "pygments_lexer": "ipython3",
   "version": "3.9.12"
  }
 },
 "nbformat": 4,
 "nbformat_minor": 5
}
